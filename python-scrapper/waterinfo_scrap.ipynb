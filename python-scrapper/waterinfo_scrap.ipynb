{
 "cells": [
  {
   "cell_type": "code",
   "execution_count": 1,
   "id": "50b30c84-e8f8-4f68-b6bc-4093fb2fa816",
   "metadata": {},
   "outputs": [],
   "source": [
    "from pywaterinfo import Waterinfo\n",
    "import os\n",
    "import pandas as pd\n",
    "import numpy as np\n",
    "import schedule\n",
    "import datetime\n",
    "import time"
   ]
  },
  {
   "cell_type": "code",
   "execution_count": 2,
   "id": "d186bd10-8953-4659-ad04-a25ac9a500fe",
   "metadata": {},
   "outputs": [],
   "source": [
    "vmm_group_list = pd.DataFrame()\n",
    "hic_group_list = pd.DataFrame()\n",
    "vmm_group_id = []\n",
    "hic_group_id = []\n",
    "vmm_ts_id = pd.DataFrame()\n",
    "hic_ts_id = pd.DataFrame()\n",
    "vmm_ts_values = pd.DataFrame()\n",
    "hic_ts_values = pd.DataFrame()"
   ]
  },
  {
   "cell_type": "code",
   "execution_count": 3,
   "id": "a036949a-e16c-4196-8983-de369695a46a",
   "metadata": {},
   "outputs": [],
   "source": [
    "vmm = Waterinfo(\"vmm\") #flanders enviroment agency\n",
    "hic = Waterinfo(\"hic\") #flanders hydraulics research"
   ]
  },
  {
   "cell_type": "code",
   "execution_count": 4,
   "id": "05a8a952-3a76-4aad-8970-30adf0b2c243",
   "metadata": {},
   "outputs": [],
   "source": [
    "def fetch_vmm_hic_group_list():\n",
    "    global vmm_group_list,hic_group_list,vmm_group_id,hic_group_id\n",
    "    vmm_group_list = vmm.get_group_list()\n",
    "    hic_group_list = hic.get_group_list()\n",
    "    vmm_group_list = vmm_group_list[(vmm_group_list['group_type'] == 'timeseries') | (vmm_group_list['group_type'] == 'timeseries_dynamic')]\n",
    "    hic_group_list = hic_group_list[(hic_group_list['group_type'] == 'timeseries') | (hic_group_list['group_type'] == 'timeseries_dynamic')]\n",
    "\n",
    "\n",
    "\n",
    "    vmm_group_list.to_csv('vmm_group_list.csv',index=False,mode='w')\n",
    "    hic_group_list.to_csv('hic_group_list.csv',index=False,mode='w')"
   ]
  },
  {
   "cell_type": "code",
   "execution_count": 5,
   "id": "b7fa07b0-1f4d-46e3-93b1-854074b28d56",
   "metadata": {},
   "outputs": [],
   "source": [
    "fetch_vmm_hic_group_list()"
   ]
  },
  {
   "cell_type": "code",
   "execution_count": 6,
   "id": "e7d8e6a2-c461-41a0-95b5-1a53edfe6f91",
   "metadata": {},
   "outputs": [],
   "source": [
    "def fetch_vmm_hic_group_id():\n",
    "    global vmm_group_id,hic_group_id,vmm_ts_id,hic_ts_id\n",
    "    counter = 0;\n",
    "    vmm_group_list = pd.read_csv('vmm_group_list.csv')\n",
    "    hic_group_list = pd.read_csv('hic_group_list.csv')\n",
    "\n",
    "    vmm_group_id = vmm_group_list[\"group_id\"]\n",
    "    hic_group_id = hic_group_list[\"group_id\"]\n",
    "    \n",
    "    for i in vmm_group_id:\n",
    "        ts_data = vmm.get_timeseries_value_layer(timeseriesgroup_id=i)\n",
    "        counter=counter+1\n",
    "        #print(i)\n",
    "        if ts_data is not None and not ts_data.empty:\n",
    "            ts_data = ts_data.copy()  # Make a copy to avoid modifying the original DataFrame\n",
    "            ts_data['group_id'] = i \n",
    "            vmm_ts_id = pd.concat([vmm_ts_id,ts_data], ignore_index=True)\n",
    "        #if counter==10:\n",
    "            #break\n",
    "            \n",
    "            \n",
    "    vmm_ts_id.to_csv('vmm_ts_id.csv',index=False,header=True,mode='w')\n",
    "\n",
    "    \n",
    "    for i in hic_group_id:\n",
    "        ts_data = hic.get_timeseries_value_layer(timeseriesgroup_id = i)\n",
    "        if ts_data is not None and not ts_data.empty:\n",
    "            ts_data = ts_data.copy()  # Make a copy to avoid modifying the original DataFrame\n",
    "            ts_data['group_id'] = i \n",
    "            hic_ts_id = pd.concat([hic_ts_id,ts_data], ignore_index=True)\n",
    "            \n",
    "    hic_ts_id.to_csv('hic_ts_id.csv',index=False,header=True,mode='w')"
   ]
  },
  {
   "cell_type": "code",
   "execution_count": 7,
   "id": "123d3381-a5a6-4d4e-859c-191e1ce44234",
   "metadata": {},
   "outputs": [
    {
     "name": "stderr",
     "output_type": "stream",
     "text": [
      "/tmp/ipykernel_18364/3910304129.py:17: FutureWarning: The behavior of DataFrame concatenation with empty or all-NA entries is deprecated. In a future version, this will no longer exclude empty or all-NA columns when determining the result dtypes. To retain the old behavior, exclude the relevant entries before the concat operation.\n",
      "  vmm_ts_id = pd.concat([vmm_ts_id,ts_data], ignore_index=True)\n",
      "/tmp/ipykernel_18364/3910304129.py:17: FutureWarning: The behavior of DataFrame concatenation with empty or all-NA entries is deprecated. In a future version, this will no longer exclude empty or all-NA columns when determining the result dtypes. To retain the old behavior, exclude the relevant entries before the concat operation.\n",
      "  vmm_ts_id = pd.concat([vmm_ts_id,ts_data], ignore_index=True)\n",
      "/tmp/ipykernel_18364/3910304129.py:17: FutureWarning: The behavior of DataFrame concatenation with empty or all-NA entries is deprecated. In a future version, this will no longer exclude empty or all-NA columns when determining the result dtypes. To retain the old behavior, exclude the relevant entries before the concat operation.\n",
      "  vmm_ts_id = pd.concat([vmm_ts_id,ts_data], ignore_index=True)\n",
      "/tmp/ipykernel_18364/3910304129.py:17: FutureWarning: The behavior of DataFrame concatenation with empty or all-NA entries is deprecated. In a future version, this will no longer exclude empty or all-NA columns when determining the result dtypes. To retain the old behavior, exclude the relevant entries before the concat operation.\n",
      "  vmm_ts_id = pd.concat([vmm_ts_id,ts_data], ignore_index=True)\n",
      "/tmp/ipykernel_18364/3910304129.py:17: FutureWarning: The behavior of DataFrame concatenation with empty or all-NA entries is deprecated. In a future version, this will no longer exclude empty or all-NA columns when determining the result dtypes. To retain the old behavior, exclude the relevant entries before the concat operation.\n",
      "  vmm_ts_id = pd.concat([vmm_ts_id,ts_data], ignore_index=True)\n",
      "/tmp/ipykernel_18364/3910304129.py:17: FutureWarning: The behavior of DataFrame concatenation with empty or all-NA entries is deprecated. In a future version, this will no longer exclude empty or all-NA columns when determining the result dtypes. To retain the old behavior, exclude the relevant entries before the concat operation.\n",
      "  vmm_ts_id = pd.concat([vmm_ts_id,ts_data], ignore_index=True)\n",
      "/tmp/ipykernel_18364/3910304129.py:17: FutureWarning: The behavior of DataFrame concatenation with empty or all-NA entries is deprecated. In a future version, this will no longer exclude empty or all-NA columns when determining the result dtypes. To retain the old behavior, exclude the relevant entries before the concat operation.\n",
      "  vmm_ts_id = pd.concat([vmm_ts_id,ts_data], ignore_index=True)\n",
      "/tmp/ipykernel_18364/3910304129.py:17: FutureWarning: The behavior of DataFrame concatenation with empty or all-NA entries is deprecated. In a future version, this will no longer exclude empty or all-NA columns when determining the result dtypes. To retain the old behavior, exclude the relevant entries before the concat operation.\n",
      "  vmm_ts_id = pd.concat([vmm_ts_id,ts_data], ignore_index=True)\n",
      "/tmp/ipykernel_18364/3910304129.py:17: FutureWarning: The behavior of DataFrame concatenation with empty or all-NA entries is deprecated. In a future version, this will no longer exclude empty or all-NA columns when determining the result dtypes. To retain the old behavior, exclude the relevant entries before the concat operation.\n",
      "  vmm_ts_id = pd.concat([vmm_ts_id,ts_data], ignore_index=True)\n",
      "/tmp/ipykernel_18364/3910304129.py:17: FutureWarning: The behavior of DataFrame concatenation with empty or all-NA entries is deprecated. In a future version, this will no longer exclude empty or all-NA columns when determining the result dtypes. To retain the old behavior, exclude the relevant entries before the concat operation.\n",
      "  vmm_ts_id = pd.concat([vmm_ts_id,ts_data], ignore_index=True)\n",
      "/tmp/ipykernel_18364/3910304129.py:17: FutureWarning: The behavior of DataFrame concatenation with empty or all-NA entries is deprecated. In a future version, this will no longer exclude empty or all-NA columns when determining the result dtypes. To retain the old behavior, exclude the relevant entries before the concat operation.\n",
      "  vmm_ts_id = pd.concat([vmm_ts_id,ts_data], ignore_index=True)\n",
      "/tmp/ipykernel_18364/3910304129.py:17: FutureWarning: The behavior of DataFrame concatenation with empty or all-NA entries is deprecated. In a future version, this will no longer exclude empty or all-NA columns when determining the result dtypes. To retain the old behavior, exclude the relevant entries before the concat operation.\n",
      "  vmm_ts_id = pd.concat([vmm_ts_id,ts_data], ignore_index=True)\n",
      "/tmp/ipykernel_18364/3910304129.py:17: FutureWarning: The behavior of DataFrame concatenation with empty or all-NA entries is deprecated. In a future version, this will no longer exclude empty or all-NA columns when determining the result dtypes. To retain the old behavior, exclude the relevant entries before the concat operation.\n",
      "  vmm_ts_id = pd.concat([vmm_ts_id,ts_data], ignore_index=True)\n",
      "/tmp/ipykernel_18364/3910304129.py:17: FutureWarning: The behavior of DataFrame concatenation with empty or all-NA entries is deprecated. In a future version, this will no longer exclude empty or all-NA columns when determining the result dtypes. To retain the old behavior, exclude the relevant entries before the concat operation.\n",
      "  vmm_ts_id = pd.concat([vmm_ts_id,ts_data], ignore_index=True)\n",
      "/tmp/ipykernel_18364/3910304129.py:17: FutureWarning: The behavior of DataFrame concatenation with empty or all-NA entries is deprecated. In a future version, this will no longer exclude empty or all-NA columns when determining the result dtypes. To retain the old behavior, exclude the relevant entries before the concat operation.\n",
      "  vmm_ts_id = pd.concat([vmm_ts_id,ts_data], ignore_index=True)\n",
      "/tmp/ipykernel_18364/3910304129.py:17: FutureWarning: The behavior of DataFrame concatenation with empty or all-NA entries is deprecated. In a future version, this will no longer exclude empty or all-NA columns when determining the result dtypes. To retain the old behavior, exclude the relevant entries before the concat operation.\n",
      "  vmm_ts_id = pd.concat([vmm_ts_id,ts_data], ignore_index=True)\n",
      "/tmp/ipykernel_18364/3910304129.py:17: FutureWarning: The behavior of DataFrame concatenation with empty or all-NA entries is deprecated. In a future version, this will no longer exclude empty or all-NA columns when determining the result dtypes. To retain the old behavior, exclude the relevant entries before the concat operation.\n",
      "  vmm_ts_id = pd.concat([vmm_ts_id,ts_data], ignore_index=True)\n",
      "/tmp/ipykernel_18364/3910304129.py:17: FutureWarning: The behavior of DataFrame concatenation with empty or all-NA entries is deprecated. In a future version, this will no longer exclude empty or all-NA columns when determining the result dtypes. To retain the old behavior, exclude the relevant entries before the concat operation.\n",
      "  vmm_ts_id = pd.concat([vmm_ts_id,ts_data], ignore_index=True)\n",
      "/tmp/ipykernel_18364/3910304129.py:17: FutureWarning: The behavior of DataFrame concatenation with empty or all-NA entries is deprecated. In a future version, this will no longer exclude empty or all-NA columns when determining the result dtypes. To retain the old behavior, exclude the relevant entries before the concat operation.\n",
      "  vmm_ts_id = pd.concat([vmm_ts_id,ts_data], ignore_index=True)\n",
      "/tmp/ipykernel_18364/3910304129.py:17: FutureWarning: The behavior of DataFrame concatenation with empty or all-NA entries is deprecated. In a future version, this will no longer exclude empty or all-NA columns when determining the result dtypes. To retain the old behavior, exclude the relevant entries before the concat operation.\n",
      "  vmm_ts_id = pd.concat([vmm_ts_id,ts_data], ignore_index=True)\n",
      "/tmp/ipykernel_18364/3910304129.py:17: FutureWarning: The behavior of DataFrame concatenation with empty or all-NA entries is deprecated. In a future version, this will no longer exclude empty or all-NA columns when determining the result dtypes. To retain the old behavior, exclude the relevant entries before the concat operation.\n",
      "  vmm_ts_id = pd.concat([vmm_ts_id,ts_data], ignore_index=True)\n",
      "/tmp/ipykernel_18364/3910304129.py:17: FutureWarning: The behavior of DataFrame concatenation with empty or all-NA entries is deprecated. In a future version, this will no longer exclude empty or all-NA columns when determining the result dtypes. To retain the old behavior, exclude the relevant entries before the concat operation.\n",
      "  vmm_ts_id = pd.concat([vmm_ts_id,ts_data], ignore_index=True)\n",
      "/tmp/ipykernel_18364/3910304129.py:30: FutureWarning: The behavior of DataFrame concatenation with empty or all-NA entries is deprecated. In a future version, this will no longer exclude empty or all-NA columns when determining the result dtypes. To retain the old behavior, exclude the relevant entries before the concat operation.\n",
      "  hic_ts_id = pd.concat([hic_ts_id,ts_data], ignore_index=True)\n",
      "/tmp/ipykernel_18364/3910304129.py:30: FutureWarning: The behavior of DataFrame concatenation with empty or all-NA entries is deprecated. In a future version, this will no longer exclude empty or all-NA columns when determining the result dtypes. To retain the old behavior, exclude the relevant entries before the concat operation.\n",
      "  hic_ts_id = pd.concat([hic_ts_id,ts_data], ignore_index=True)\n",
      "/tmp/ipykernel_18364/3910304129.py:30: FutureWarning: The behavior of DataFrame concatenation with empty or all-NA entries is deprecated. In a future version, this will no longer exclude empty or all-NA columns when determining the result dtypes. To retain the old behavior, exclude the relevant entries before the concat operation.\n",
      "  hic_ts_id = pd.concat([hic_ts_id,ts_data], ignore_index=True)\n",
      "/tmp/ipykernel_18364/3910304129.py:30: FutureWarning: The behavior of DataFrame concatenation with empty or all-NA entries is deprecated. In a future version, this will no longer exclude empty or all-NA columns when determining the result dtypes. To retain the old behavior, exclude the relevant entries before the concat operation.\n",
      "  hic_ts_id = pd.concat([hic_ts_id,ts_data], ignore_index=True)\n",
      "/tmp/ipykernel_18364/3910304129.py:30: FutureWarning: The behavior of DataFrame concatenation with empty or all-NA entries is deprecated. In a future version, this will no longer exclude empty or all-NA columns when determining the result dtypes. To retain the old behavior, exclude the relevant entries before the concat operation.\n",
      "  hic_ts_id = pd.concat([hic_ts_id,ts_data], ignore_index=True)\n",
      "/tmp/ipykernel_18364/3910304129.py:30: FutureWarning: The behavior of DataFrame concatenation with empty or all-NA entries is deprecated. In a future version, this will no longer exclude empty or all-NA columns when determining the result dtypes. To retain the old behavior, exclude the relevant entries before the concat operation.\n",
      "  hic_ts_id = pd.concat([hic_ts_id,ts_data], ignore_index=True)\n",
      "/tmp/ipykernel_18364/3910304129.py:30: FutureWarning: The behavior of DataFrame concatenation with empty or all-NA entries is deprecated. In a future version, this will no longer exclude empty or all-NA columns when determining the result dtypes. To retain the old behavior, exclude the relevant entries before the concat operation.\n",
      "  hic_ts_id = pd.concat([hic_ts_id,ts_data], ignore_index=True)\n",
      "/tmp/ipykernel_18364/3910304129.py:30: FutureWarning: The behavior of DataFrame concatenation with empty or all-NA entries is deprecated. In a future version, this will no longer exclude empty or all-NA columns when determining the result dtypes. To retain the old behavior, exclude the relevant entries before the concat operation.\n",
      "  hic_ts_id = pd.concat([hic_ts_id,ts_data], ignore_index=True)\n",
      "/tmp/ipykernel_18364/3910304129.py:30: FutureWarning: The behavior of DataFrame concatenation with empty or all-NA entries is deprecated. In a future version, this will no longer exclude empty or all-NA columns when determining the result dtypes. To retain the old behavior, exclude the relevant entries before the concat operation.\n",
      "  hic_ts_id = pd.concat([hic_ts_id,ts_data], ignore_index=True)\n",
      "/tmp/ipykernel_18364/3910304129.py:30: FutureWarning: The behavior of DataFrame concatenation with empty or all-NA entries is deprecated. In a future version, this will no longer exclude empty or all-NA columns when determining the result dtypes. To retain the old behavior, exclude the relevant entries before the concat operation.\n",
      "  hic_ts_id = pd.concat([hic_ts_id,ts_data], ignore_index=True)\n",
      "/tmp/ipykernel_18364/3910304129.py:30: FutureWarning: The behavior of DataFrame concatenation with empty or all-NA entries is deprecated. In a future version, this will no longer exclude empty or all-NA columns when determining the result dtypes. To retain the old behavior, exclude the relevant entries before the concat operation.\n",
      "  hic_ts_id = pd.concat([hic_ts_id,ts_data], ignore_index=True)\n",
      "/tmp/ipykernel_18364/3910304129.py:30: FutureWarning: The behavior of DataFrame concatenation with empty or all-NA entries is deprecated. In a future version, this will no longer exclude empty or all-NA columns when determining the result dtypes. To retain the old behavior, exclude the relevant entries before the concat operation.\n",
      "  hic_ts_id = pd.concat([hic_ts_id,ts_data], ignore_index=True)\n",
      "/tmp/ipykernel_18364/3910304129.py:30: FutureWarning: The behavior of DataFrame concatenation with empty or all-NA entries is deprecated. In a future version, this will no longer exclude empty or all-NA columns when determining the result dtypes. To retain the old behavior, exclude the relevant entries before the concat operation.\n",
      "  hic_ts_id = pd.concat([hic_ts_id,ts_data], ignore_index=True)\n",
      "/tmp/ipykernel_18364/3910304129.py:30: FutureWarning: The behavior of DataFrame concatenation with empty or all-NA entries is deprecated. In a future version, this will no longer exclude empty or all-NA columns when determining the result dtypes. To retain the old behavior, exclude the relevant entries before the concat operation.\n",
      "  hic_ts_id = pd.concat([hic_ts_id,ts_data], ignore_index=True)\n",
      "/tmp/ipykernel_18364/3910304129.py:30: FutureWarning: The behavior of DataFrame concatenation with empty or all-NA entries is deprecated. In a future version, this will no longer exclude empty or all-NA columns when determining the result dtypes. To retain the old behavior, exclude the relevant entries before the concat operation.\n",
      "  hic_ts_id = pd.concat([hic_ts_id,ts_data], ignore_index=True)\n",
      "/tmp/ipykernel_18364/3910304129.py:30: FutureWarning: The behavior of DataFrame concatenation with empty or all-NA entries is deprecated. In a future version, this will no longer exclude empty or all-NA columns when determining the result dtypes. To retain the old behavior, exclude the relevant entries before the concat operation.\n",
      "  hic_ts_id = pd.concat([hic_ts_id,ts_data], ignore_index=True)\n",
      "/tmp/ipykernel_18364/3910304129.py:30: FutureWarning: The behavior of DataFrame concatenation with empty or all-NA entries is deprecated. In a future version, this will no longer exclude empty or all-NA columns when determining the result dtypes. To retain the old behavior, exclude the relevant entries before the concat operation.\n",
      "  hic_ts_id = pd.concat([hic_ts_id,ts_data], ignore_index=True)\n",
      "/tmp/ipykernel_18364/3910304129.py:30: FutureWarning: The behavior of DataFrame concatenation with empty or all-NA entries is deprecated. In a future version, this will no longer exclude empty or all-NA columns when determining the result dtypes. To retain the old behavior, exclude the relevant entries before the concat operation.\n",
      "  hic_ts_id = pd.concat([hic_ts_id,ts_data], ignore_index=True)\n",
      "/tmp/ipykernel_18364/3910304129.py:30: FutureWarning: The behavior of DataFrame concatenation with empty or all-NA entries is deprecated. In a future version, this will no longer exclude empty or all-NA columns when determining the result dtypes. To retain the old behavior, exclude the relevant entries before the concat operation.\n",
      "  hic_ts_id = pd.concat([hic_ts_id,ts_data], ignore_index=True)\n",
      "/tmp/ipykernel_18364/3910304129.py:30: FutureWarning: The behavior of DataFrame concatenation with empty or all-NA entries is deprecated. In a future version, this will no longer exclude empty or all-NA columns when determining the result dtypes. To retain the old behavior, exclude the relevant entries before the concat operation.\n",
      "  hic_ts_id = pd.concat([hic_ts_id,ts_data], ignore_index=True)\n"
     ]
    }
   ],
   "source": [
    "fetch_vmm_hic_group_id()"
   ]
  },
  {
   "cell_type": "code",
   "execution_count": 11,
   "id": "9d572317-40a2-4599-8e17-ef6304202c07",
   "metadata": {},
   "outputs": [],
   "source": [
    "def get_vmm_hic_timeseries():\n",
    "    global vmm_group_id,hic_group_id,vmm_ts_id,hic_ts_id,vmm_ts_values,hic_ts_values\n",
    "    \n",
    "    for index, row in vmm_ts_id.iterrows():\n",
    "        #print(vmm.get_timeseries_values(row['ts_id'], period=\"P5Y\"))\n",
    "        #vmm_ts_values = pd.concat([vmm_ts_values,vmm.get_timeseries_values(row['ts_id'], period=\"P1D\")], ignore_index=True)\n",
    "        vmm.get_timeseries_values(row['ts_id'], period=\"P1D\").to_csv('vmm_ts_values.csv',index=False,header=False,mode='a')\n",
    "        \n",
    "    #vmm_ts_values.to_csv('vmm_ts_values.csv',index=False,header=True,mode='w')\n",
    "    \n",
    "    for index, row in hic_ts_id.iterrows():\n",
    "        #Whic_ts_values = pd.concat([hic_ts_values,hic.get_timeseries_values(row['ts_id'], period=\"P1D\")], ignore_index=True)\n",
    "        hic.get_timeseries_values(row['ts_id'], period=\"P1D\").to_csv('hic_ts_values.csv',index=False,header=True,mode='a')\n",
    "    #hic_ts_values.to_csv('hic_ts_values.csv',index=False,header=True,mode='w')\n",
    "\n",
    "\n"
   ]
  },
  {
   "cell_type": "code",
   "execution_count": 12,
   "id": "581fb957-64cf-471a-90d3-948035546498",
   "metadata": {},
   "outputs": [
    {
     "ename": "KiwisException",
     "evalue": "Waterinfo call returned 429 error with the message b'<?xml version=\"1.0\" ?><ExceptionReport><Exception exceptionCode=\"AuthCreditLimit\"><ExceptionText>Credit limit exceeded for type IP and key 81.82.73.193</ExceptionText></Exception></ExceptionReport>'",
     "output_type": "error",
     "traceback": [
      "\u001b[0;31m---------------------------------------------------------------------------\u001b[0m",
      "\u001b[0;31mKiwisException\u001b[0m                            Traceback (most recent call last)",
      "Cell \u001b[0;32mIn[12], line 1\u001b[0m\n\u001b[0;32m----> 1\u001b[0m get_vmm_hic_timeseries()\n",
      "Cell \u001b[0;32mIn[11], line 7\u001b[0m, in \u001b[0;36mget_vmm_hic_timeseries\u001b[0;34m()\u001b[0m\n\u001b[1;32m      2\u001b[0m \u001b[38;5;28;01mglobal\u001b[39;00m vmm_group_id,hic_group_id,vmm_ts_id,hic_ts_id,vmm_ts_values,hic_ts_values\n\u001b[1;32m      4\u001b[0m \u001b[38;5;28;01mfor\u001b[39;00m index, row \u001b[38;5;129;01min\u001b[39;00m vmm_ts_id\u001b[38;5;241m.\u001b[39miterrows():\n\u001b[1;32m      5\u001b[0m     \u001b[38;5;66;03m#print(vmm.get_timeseries_values(row['ts_id'], period=\"P5Y\"))\u001b[39;00m\n\u001b[1;32m      6\u001b[0m     \u001b[38;5;66;03m#vmm_ts_values = pd.concat([vmm_ts_values,vmm.get_timeseries_values(row['ts_id'], period=\"P1D\")], ignore_index=True)\u001b[39;00m\n\u001b[0;32m----> 7\u001b[0m     vmm\u001b[38;5;241m.\u001b[39mget_timeseries_values(row[\u001b[38;5;124m'\u001b[39m\u001b[38;5;124mts_id\u001b[39m\u001b[38;5;124m'\u001b[39m], period\u001b[38;5;241m=\u001b[39m\u001b[38;5;124m\"\u001b[39m\u001b[38;5;124mP1D\u001b[39m\u001b[38;5;124m\"\u001b[39m)\u001b[38;5;241m.\u001b[39mto_csv(\u001b[38;5;124m'\u001b[39m\u001b[38;5;124mvmm_ts_values.csv\u001b[39m\u001b[38;5;124m'\u001b[39m,index\u001b[38;5;241m=\u001b[39m\u001b[38;5;28;01mFalse\u001b[39;00m,header\u001b[38;5;241m=\u001b[39m\u001b[38;5;28;01mFalse\u001b[39;00m,mode\u001b[38;5;241m=\u001b[39m\u001b[38;5;124m'\u001b[39m\u001b[38;5;124ma\u001b[39m\u001b[38;5;124m'\u001b[39m)\n\u001b[1;32m      9\u001b[0m \u001b[38;5;66;03m#vmm_ts_values.to_csv('vmm_ts_values.csv',index=False,header=True,mode='w')\u001b[39;00m\n\u001b[1;32m     11\u001b[0m \u001b[38;5;28;01mfor\u001b[39;00m index, row \u001b[38;5;129;01min\u001b[39;00m hic_ts_id\u001b[38;5;241m.\u001b[39miterrows():\n\u001b[1;32m     12\u001b[0m     \u001b[38;5;66;03m#Whic_ts_values = pd.concat([hic_ts_values,hic.get_timeseries_values(row['ts_id'], period=\"P1D\")], ignore_index=True)\u001b[39;00m\n",
      "File \u001b[0;32m~/anaconda3/lib/python3.12/site-packages/pywaterinfo/waterinfo.py:618\u001b[0m, in \u001b[0;36mWaterinfo.get_timeseries_values\u001b[0;34m(self, ts_id, timeseriesgroup_id, period, start, end, **kwargs)\u001b[0m\n\u001b[1;32m    615\u001b[0m query_param\u001b[38;5;241m.\u001b[39mupdate(period_info)\n\u001b[1;32m    616\u001b[0m query_param\u001b[38;5;241m.\u001b[39mupdate(kwargs)\n\u001b[0;32m--> 618\u001b[0m data, response \u001b[38;5;241m=\u001b[39m \u001b[38;5;28mself\u001b[39m\u001b[38;5;241m.\u001b[39mrequest_kiwis(query_param)\n\u001b[1;32m    620\u001b[0m \u001b[38;5;66;03m# All metadata of time series (except of columns, data and rows) converted\u001b[39;00m\n\u001b[1;32m    621\u001b[0m \u001b[38;5;66;03m# to additional columns in df in order to concat all of them while keeping the\u001b[39;00m\n\u001b[1;32m    622\u001b[0m \u001b[38;5;66;03m# information to trace the origin\u001b[39;00m\n\u001b[1;32m    623\u001b[0m time_series \u001b[38;5;241m=\u001b[39m []\n",
      "File \u001b[0;32m~/anaconda3/lib/python3.12/site-packages/pywaterinfo/waterinfo.py:251\u001b[0m, in \u001b[0;36mWaterinfo.request_kiwis\u001b[0;34m(self, query, headers)\u001b[0m\n\u001b[1;32m    246\u001b[0m res \u001b[38;5;241m=\u001b[39m \u001b[38;5;28mself\u001b[39m\u001b[38;5;241m.\u001b[39m_request\u001b[38;5;241m.\u001b[39mget(\n\u001b[1;32m    247\u001b[0m     \u001b[38;5;28mself\u001b[39m\u001b[38;5;241m.\u001b[39m_base_url, params\u001b[38;5;241m=\u001b[39mquery, headers\u001b[38;5;241m=\u001b[39mheaders, proxies\u001b[38;5;241m=\u001b[39m\u001b[38;5;28mself\u001b[39m\u001b[38;5;241m.\u001b[39m_proxies\n\u001b[1;32m    248\u001b[0m )\n\u001b[1;32m    250\u001b[0m \u001b[38;5;28;01mif\u001b[39;00m res\u001b[38;5;241m.\u001b[39mstatus_code \u001b[38;5;241m!=\u001b[39m requests\u001b[38;5;241m.\u001b[39mcodes\u001b[38;5;241m.\u001b[39mok:\n\u001b[0;32m--> 251\u001b[0m     \u001b[38;5;28;01mraise\u001b[39;00m KiwisException(\n\u001b[1;32m    252\u001b[0m         \u001b[38;5;124mf\u001b[39m\u001b[38;5;124m\"\u001b[39m\u001b[38;5;124mWaterinfo call returned \u001b[39m\u001b[38;5;132;01m{\u001b[39;00mres\u001b[38;5;241m.\u001b[39mstatus_code\u001b[38;5;132;01m}\u001b[39;00m\u001b[38;5;124m error \u001b[39m\u001b[38;5;124m\"\u001b[39m\n\u001b[1;32m    253\u001b[0m         \u001b[38;5;124mf\u001b[39m\u001b[38;5;124m\"\u001b[39m\u001b[38;5;124mwith the message \u001b[39m\u001b[38;5;132;01m{\u001b[39;00mres\u001b[38;5;241m.\u001b[39mcontent\u001b[38;5;132;01m}\u001b[39;00m\u001b[38;5;124m\"\u001b[39m\n\u001b[1;32m    254\u001b[0m     )\n\u001b[1;32m    256\u001b[0m \u001b[38;5;28;01mif\u001b[39;00m \u001b[38;5;28mself\u001b[39m\u001b[38;5;241m.\u001b[39m_cache:\n\u001b[1;32m    257\u001b[0m     \u001b[38;5;28;01mif\u001b[39;00m res\u001b[38;5;241m.\u001b[39mfrom_cache:\n",
      "\u001b[0;31mKiwisException\u001b[0m: Waterinfo call returned 429 error with the message b'<?xml version=\"1.0\" ?><ExceptionReport><Exception exceptionCode=\"AuthCreditLimit\"><ExceptionText>Credit limit exceeded for type IP and key 81.82.73.193</ExceptionText></Exception></ExceptionReport>'"
     ]
    }
   ],
   "source": [
    "get_vmm_hic_timeseries()"
   ]
  },
  {
   "cell_type": "code",
   "execution_count": null,
   "id": "d0cc3d08-647b-4398-922c-4d5c04e870b5",
   "metadata": {},
   "outputs": [],
   "source": [
    "#df = hic.get_timeseries_values(ts_id=\"39496010\", period=\"P1D\")\n",
    "#print(df)"
   ]
  },
  {
   "cell_type": "code",
   "execution_count": null,
   "id": "0cbed856-a992-479a-8f02-dbfced8b043e",
   "metadata": {},
   "outputs": [],
   "source": []
  }
 ],
 "metadata": {
  "kernelspec": {
   "display_name": "Python 3 (ipykernel)",
   "language": "python",
   "name": "python3"
  },
  "language_info": {
   "codemirror_mode": {
    "name": "ipython",
    "version": 3
   },
   "file_extension": ".py",
   "mimetype": "text/x-python",
   "name": "python",
   "nbconvert_exporter": "python",
   "pygments_lexer": "ipython3",
   "version": "3.12.7"
  }
 },
 "nbformat": 4,
 "nbformat_minor": 5
}
