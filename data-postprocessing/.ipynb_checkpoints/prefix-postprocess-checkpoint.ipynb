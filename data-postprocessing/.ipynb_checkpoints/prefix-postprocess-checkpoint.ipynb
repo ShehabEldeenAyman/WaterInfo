{
 "cells": [
  {
   "cell_type": "code",
   "execution_count": 1,
   "id": "314aa2e6-792c-462d-9adb-d5630a5a705a",
   "metadata": {},
   "outputs": [],
   "source": [
    "from rdflib import Graph, URIRef, Namespace\n",
    "import warnings\n",
    "import pandas as pd"
   ]
  },
  {
   "cell_type": "code",
   "execution_count": 40,
   "id": "3920402f-77d0-45f1-b811-7d6c82223c6d",
   "metadata": {},
   "outputs": [
    {
     "data": {
      "text/plain": [
       "<Graph identifier=Ncd66a9dd156e42bc90fac8fa7897e750 (<class 'rdflib.graph.Graph'>)>"
      ]
     },
     "execution_count": 40,
     "metadata": {},
     "output_type": "execute_result"
    }
   ],
   "source": [
    "g = Graph()\n",
    "g.parse(\"../generated-rdf/timeseriesmapping.ttl\", format=\"turtle\")"
   ]
  },
  {
   "cell_type": "code",
   "execution_count": 41,
   "id": "14fafc8d-e59c-41ba-aa7a-ad6810722139",
   "metadata": {},
   "outputs": [],
   "source": [
    "# Prefix map\n",
    "prefixes = {\n",
    "    \"ex\": \"http://example.com/\",\n",
    "    \"rdfs\": \"http://www.w3.org/2000/01/rdf-schema/\",\n",
    "    \"sosa\": \"http://www.w3.org/ns/sosa/\",\n",
    "    \"ssn\": \"http://www.w3.org/ns/ssn/\",\n",
    "    \"geo\": \"http://www.opengis.net/ont/geosparql/\",\n",
    "    \"dcterms\": \"http://purl.org/dc/terms/\",\n",
    "    \"qudt\": \"http://qudt.org/schema/qudt/\",\n",
    "    \"unit\": \"http://qudt.org/vocab/unit/\",\n",
    "    \"gn\": \"http://www.geonames.org/ontology/\",\n",
    "    \"xsd\": \"http://www.w3.org/2001/XMLSchema/\",\n",
    "    \"cdt\": \"https://ci.mines-stetienne.fr/lindt/v4/custom_datatypes#\"\n",
    "}"
   ]
  },
  {
   "cell_type": "code",
   "execution_count": 42,
   "id": "a8e773dc-5804-4ba2-90e7-265479c5d44e",
   "metadata": {},
   "outputs": [
    {
     "data": {
      "text/plain": [
       "<Graph identifier=Ncd66a9dd156e42bc90fac8fa7897e750 (<class 'rdflib.graph.Graph'>)>"
      ]
     },
     "execution_count": 42,
     "metadata": {},
     "output_type": "execute_result"
    }
   ],
   "source": [
    "# bind them all in one go\n",
    "for prefix, namespace in prefixes.items():\n",
    "    g.bind(prefix, namespace)\n",
    "g.serialize(destination=\"../generated-rdf/ttimeseries_with_prefixes.ttl\", format=\"turtle\")"
   ]
  },
  {
   "cell_type": "code",
   "execution_count": null,
   "id": "267c9a82-4754-4382-9b5f-c1b38ec908fc",
   "metadata": {},
   "outputs": [],
   "source": [
    "df = pd.read_csv('prefixes/prefix.csv')"
   ]
  },
  {
   "cell_type": "code",
   "execution_count": null,
   "id": "c993915e-38fe-4e1c-a650-77c344455770",
   "metadata": {},
   "outputs": [],
   "source": []
  },
  {
   "cell_type": "code",
   "execution_count": null,
   "id": "32b1bda6-1fef-4da6-bb2b-cc5675289a04",
   "metadata": {},
   "outputs": [],
   "source": []
  },
  {
   "cell_type": "code",
   "execution_count": null,
   "id": "bb679107-6658-43fd-92e5-1dbad5ab882d",
   "metadata": {},
   "outputs": [],
   "source": []
  }
 ],
 "metadata": {
  "kernelspec": {
   "display_name": "Python 3 (ipykernel)",
   "language": "python",
   "name": "python3"
  },
  "language_info": {
   "codemirror_mode": {
    "name": "ipython",
    "version": 3
   },
   "file_extension": ".py",
   "mimetype": "text/x-python",
   "name": "python",
   "nbconvert_exporter": "python",
   "pygments_lexer": "ipython3",
   "version": "3.12.7"
  }
 },
 "nbformat": 4,
 "nbformat_minor": 5
}
