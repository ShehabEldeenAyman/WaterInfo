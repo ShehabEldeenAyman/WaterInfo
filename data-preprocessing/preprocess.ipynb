{
 "cells": [
  {
   "cell_type": "code",
   "execution_count": 38,
   "id": "d917add8-4d5e-4925-bfd4-33b83dca7af4",
   "metadata": {},
   "outputs": [],
   "source": [
    " import pandas as pd"
   ]
  },
  {
   "cell_type": "code",
   "execution_count": 39,
   "id": "364bfadb-df1d-4702-8afb-bea176c47b82",
   "metadata": {},
   "outputs": [],
   "source": [
    "hic = pd.read_csv('../CSV-data/hic_ts_id.csv')\n",
    "vmm = pd.read_csv('../CSV-data/vmm_ts_id.csv')"
   ]
  },
  {
   "cell_type": "code",
   "execution_count": 40,
   "id": "b7847424-8051-4a7a-ab8d-a1a7a3c32c6f",
   "metadata": {},
   "outputs": [],
   "source": [
    "hic.loc[hic['ts_unitsymbol'] == 'm³/s', 'ts_unitsymbol'] = 'm3/s'\n",
    "vmm.loc[vmm['ts_unitsymbol'] == 'm³/s', 'ts_unitsymbol'] = 'm3/s'\n",
    "\n",
    "hic.loc[hic['ts_unitsymbol'] == '°C', 'ts_unitsymbol'] = 'degC'\n",
    "vmm.loc[vmm['ts_unitsymbol'] == '°C', 'ts_unitsymbol'] = 'degC'\n",
    "\n",
    "hic.loc[hic['ts_unitsymbol'] == 'NTU', 'ts_unitsymbol'] = '{NTU}'\n",
    "vmm.loc[vmm['ts_unitsymbol'] == 'NTU', 'ts_unitsymbol'] = '{NTU}'\n",
    "\n",
    "hic.loc[hic['ts_unitsymbol'] == 'FTU', 'ts_unitsymbol'] = '{FTU}'\n",
    "vmm.loc[vmm['ts_unitsymbol'] == 'FTU', 'ts_unitsymbol'] = '{FTU}'\n",
    "\n",
    "hic.loc[hic['ts_unitsymbol'] == 'mg/l', 'ts_unitsymbol'] = 'mg/L'\n",
    "vmm.loc[vmm['ts_unitsymbol'] == 'mg/l', 'ts_unitsymbol'] = 'mg/L'\n",
    "\n",
    "hic.loc[hic['ts_unitsymbol'] == 'µmol/s/m²', 'ts_unitsymbol'] = 'umol/s/m2'\n",
    "vmm.loc[vmm['ts_unitsymbol'] == 'µmol/s/m²', 'ts_unitsymbol'] = 'umol/s/m2'\n",
    "\n",
    "hic.loc[hic['ts_unitsymbol'] == '°', 'ts_unitsymbol'] = 'deg'\n",
    "vmm.loc[vmm['ts_unitsymbol'] == '°', 'ts_unitsymbol'] = 'deg'\n",
    "\n",
    "hic.loc[hic['ts_unitsymbol'] == 'mg/l', 'ts_unitsymbol'] = 'mg/L'\n",
    "vmm.loc[vmm['ts_unitsymbol'] == 'mg/l', 'ts_unitsymbol'] = 'mg/L'\n",
    "\n",
    "hic.loc[hic['ts_unitsymbol'] == 'µS/cm', 'ts_unitsymbol'] = 'uS/cm'\n",
    "vmm.loc[vmm['ts_unitsymbol'] == 'µS/cm', 'ts_unitsymbol'] = 'uS/cm'\n",
    "\n",
    "hic.loc[(hic['ts_unitsymbol'] == 'Alarmstatus') | (hic['ts_unitsymbol'] == 'Status') | (hic['ts_unitsymbol'] == 'AlarmstatusQ') | (hic['ts_unitsymbol'] == '-')| (hic['ts_unitsymbol'] == 'psu'), 'ts_unitsymbol'] = '1'\n",
    "vmm.loc[(vmm['ts_unitsymbol'] == 'Alarmstatus') | (vmm['ts_unitsymbol'] == 'Status') | (vmm['ts_unitsymbol'] == 'AlarmstatusQ') | (vmm['ts_unitsymbol'] == '-')| (hic['ts_unitsymbol'] == 'psu'), 'ts_unitsymbol'] = '1'\n"
   ]
  },
  {
   "cell_type": "code",
   "execution_count": 41,
   "id": "acffd414-14e8-4b89-91f1-273f08e55fd4",
   "metadata": {},
   "outputs": [],
   "source": [
    "#print(hic['ts_unitsymbol'])"
   ]
  },
  {
   "cell_type": "code",
   "execution_count": 42,
   "id": "ea46937b-bf25-4d53-8f94-3061a65b38d2",
   "metadata": {},
   "outputs": [],
   "source": [
    "hic.to_csv('hic_ts_id.csv', index=False)\n",
    "vmm.to_csv('vmm_ts_id.csv', index=False)"
   ]
  },
  {
   "cell_type": "code",
   "execution_count": null,
   "id": "bae56ffe-9c14-4f3e-bd60-3e4811d5584b",
   "metadata": {},
   "outputs": [],
   "source": []
  }
 ],
 "metadata": {
  "kernelspec": {
   "display_name": "Python 3 (ipykernel)",
   "language": "python",
   "name": "python3"
  },
  "language_info": {
   "codemirror_mode": {
    "name": "ipython",
    "version": 3
   },
   "file_extension": ".py",
   "mimetype": "text/x-python",
   "name": "python",
   "nbconvert_exporter": "python",
   "pygments_lexer": "ipython3",
   "version": "3.12.7"
  }
 },
 "nbformat": 4,
 "nbformat_minor": 5
}
